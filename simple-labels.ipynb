{
 "cells": [
  {
   "cell_type": "markdown",
   "id": "ce40c687",
   "metadata": {},
   "source": [
    "# Simple Dataset Labeler"
   ]
  },
  {
   "cell_type": "code",
   "execution_count": null,
   "id": "c50fc696",
   "metadata": {},
   "outputs": [],
   "source": [
    "import ipywidgets as widgets\n",
    "from IPython.display import display\n",
    "import asyncio\n",
    "import pickle"
   ]
  },
  {
   "cell_type": "code",
   "execution_count": null,
   "id": "a72ec9a2",
   "metadata": {},
   "outputs": [],
   "source": [
    "# Example list of prompts.\n",
    "# Replace with your own list of strings\n",
    "text_list = [\"give me advice\",\"what is the capital of Toronto?\",\"Give me the recipe of pancakes.\"]"
   ]
  },
  {
   "cell_type": "code",
   "execution_count": null,
   "id": "8ca06297",
   "metadata": {
    "scrolled": false
   },
   "outputs": [],
   "source": [
    "# Text below heavily inspired by \n",
    "# https://stackoverflow.com/questions/55244865/pause-jupyter-notebook-widgets-waiting-for-user-input\n",
    "\n",
    "def wait_for_change(widget):\n",
    "    future = asyncio.Future()\n",
    "    def getvalue(change):\n",
    "        future.set_result(w.value)\n",
    "        widget.on_click(getvalue, remove=True) \n",
    "        # we need to free up the binding to getvalue to avoid an InvalidState error\n",
    "        # buttons don't support unobserve\n",
    "        # so use `remove=True` \n",
    "    widget.on_click(getvalue)\n",
    "    return future\n",
    "\n",
    "w = widgets.RadioButtons(\n",
    "options=['instruction', 'fulfilment', 'neither',\"unknown\"],\n",
    "value=None,\n",
    "description='Label:',\n",
    "disabled=False)\n",
    "\n",
    "button = widgets.Button(\n",
    "description='Next',\n",
    "disabled=False,\n",
    "tooltip='Click me',\n",
    "icon='check')\n",
    "\n",
    "async def f():\n",
    "    \n",
    "    # Get saved list or create an empty dict\n",
    "    try:\n",
    "        with open('text_and_labels.pickle', 'rb') as handle:\n",
    "            text_and_labels = pickle.load(handle)\n",
    "    except:\n",
    "        text_and_labels = {}\n",
    "        \n",
    "    print(f\"Total Count of Prompts in Text List: {len(text_list)}\")\n",
    "    print(\"---------------------------------\")\n",
    "    \n",
    "    # Loop through list of text\n",
    "    for i,t in enumerate(text_list):\n",
    "        \n",
    "        # Skip items already in the saved file\n",
    "        if i not in text_and_labels:\n",
    "            \n",
    "            # This code prints text on the same line\n",
    "            print(\"\\r\",f\"{i}: {t}\", end=\"\")\n",
    "            \n",
    "            # Await next button click\n",
    "            x = await wait_for_change(button)\n",
    "            \n",
    "            # Add text and label to dict\n",
    "            text_and_labels[i] = {\"text\":t,\"label\":x}\n",
    "\n",
    "            # Save output\n",
    "            with open('text_and_labels.pickle', 'wb') as handle:\n",
    "                pickle.dump(text_and_labels, handle, protocol=-1)\n",
    "            \n",
    "    print(\"\")\n",
    "    print(\"---------------------------------\")\n",
    "    print(\"Done\")\n",
    "    return text_and_labels\n",
    "\n",
    "text_and_labels = asyncio.create_task(f())\n",
    "display(w,button)"
   ]
  },
  {
   "cell_type": "code",
   "execution_count": null,
   "id": "85b11473",
   "metadata": {},
   "outputs": [],
   "source": [
    "# Check output\n",
    "text_and_labels.result()"
   ]
  },
  {
   "cell_type": "code",
   "execution_count": null,
   "id": "e0bf9118",
   "metadata": {},
   "outputs": [],
   "source": []
  }
 ],
 "metadata": {
  "kernelspec": {
   "display_name": "Python 3 (ipykernel)",
   "language": "python",
   "name": "python3"
  },
  "language_info": {
   "codemirror_mode": {
    "name": "ipython",
    "version": 3
   },
   "file_extension": ".py",
   "mimetype": "text/x-python",
   "name": "python",
   "nbconvert_exporter": "python",
   "pygments_lexer": "ipython3",
   "version": "3.10.6"
  }
 },
 "nbformat": 4,
 "nbformat_minor": 5
}
